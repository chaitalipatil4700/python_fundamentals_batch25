{
 "cells": [
  {
   "cell_type": "code",
   "execution_count": null,
   "metadata": {},
   "outputs": [],
   "source": [
    "#list datatype;"
   ]
  },
  {
   "cell_type": "code",
   "execution_count": 3,
   "metadata": {},
   "outputs": [
    {
     "name": "stdout",
     "output_type": "stream",
     "text": [
      "['lalu', 'gangu', 'pappu', 'titu']\n"
     ]
    }
   ],
   "source": [
    "students = ['lalu','gangu','pappu','titu']\n",
    "print(students)"
   ]
  },
  {
   "cell_type": "code",
   "execution_count": 4,
   "metadata": {},
   "outputs": [
    {
     "data": {
      "text/plain": [
       "list"
      ]
     },
     "execution_count": 4,
     "metadata": {},
     "output_type": "execute_result"
    }
   ],
   "source": [
    "type(students)"
   ]
  },
  {
   "cell_type": "code",
   "execution_count": 5,
   "metadata": {},
   "outputs": [],
   "source": [
    "# to appreciate the list of students above"
   ]
  },
  {
   "cell_type": "code",
   "execution_count": 10,
   "metadata": {},
   "outputs": [
    {
     "name": "stdout",
     "output_type": "stream",
     "text": [
      "Keep up the good work, lalu\n"
     ]
    }
   ],
   "source": [
    "print(f\"Keep up the good work, {students[0]}\")"
   ]
  },
  {
   "cell_type": "code",
   "execution_count": 11,
   "metadata": {},
   "outputs": [
    {
     "name": "stdout",
     "output_type": "stream",
     "text": [
      "Keep up the good work, gangu\n"
     ]
    }
   ],
   "source": [
    "print(f\"Keep up the good work, {students[1]}\")"
   ]
  },
  {
   "cell_type": "code",
   "execution_count": 13,
   "metadata": {},
   "outputs": [],
   "source": [
    "#Introduction to for loop: ***"
   ]
  },
  {
   "cell_type": "code",
   "execution_count": 14,
   "metadata": {},
   "outputs": [],
   "source": [
    "#General Syntax of a for loop\n",
    "\n",
    "#tempvar we wil creating in thw loop itself\n",
    "\n",
    "for tempvar in mainvar\n",
    "    print(tempvar) #indentation"
   ]
  },
  {
   "cell_type": "code",
   "execution_count": 15,
   "metadata": {},
   "outputs": [],
   "source": [
    "#implementation of a for loop"
   ]
  },
  {
   "cell_type": "code",
   "execution_count": 19,
   "metadata": {},
   "outputs": [
    {
     "name": "stdout",
     "output_type": "stream",
     "text": [
      "lalu\n",
      "gangu\n",
      "pappu\n",
      "titu\n"
     ]
    }
   ],
   "source": [
    "for x in students:\n",
    "    print(x)"
   ]
  },
  {
   "cell_type": "code",
   "execution_count": 20,
   "metadata": {},
   "outputs": [],
   "source": [
    "#enhancement of the loop"
   ]
  },
  {
   "cell_type": "code",
   "execution_count": 23,
   "metadata": {},
   "outputs": [
    {
     "name": "stdout",
     "output_type": "stream",
     "text": [
      "Keep up the good work, lalu\n",
      "Keep up the good work, gangu\n",
      "Keep up the good work, pappu\n",
      "Keep up the good work, titu\n"
     ]
    }
   ],
   "source": [
    "for x in students:\n",
    "    print(f\"Keep up the good work, {x}\")"
   ]
  },
  {
   "cell_type": "code",
   "execution_count": 26,
   "metadata": {},
   "outputs": [
    {
     "name": "stdout",
     "output_type": "stream",
     "text": [
      "Keep up the good work, lalu\n",
      "I will be looking forward to receive the file of today, lalu\n",
      "Keep up the good work, gangu\n",
      "I will be looking forward to receive the file of today, gangu\n",
      "Keep up the good work, pappu\n",
      "I will be looking forward to receive the file of today, pappu\n",
      "Keep up the good work, titu\n",
      "I will be looking forward to receive the file of today, titu\n"
     ]
    }
   ],
   "source": [
    "# further enhacenment \n",
    "\n",
    "for x in students:\n",
    "    print(f\"Keep up the good work, {x}\")\n",
    "    print(f\"I will be looking forward to receive the file of today, {x}\")"
   ]
  },
  {
   "cell_type": "code",
   "execution_count": 27,
   "metadata": {},
   "outputs": [
    {
     "name": "stdout",
     "output_type": "stream",
     "text": [
      "Keep up the good work, lalu\n",
      "I will be looking forward to receive the file of today, lalu.\n",
      "\n",
      "Keep up the good work, gangu\n",
      "I will be looking forward to receive the file of today, gangu.\n",
      "\n",
      "Keep up the good work, pappu\n",
      "I will be looking forward to receive the file of today, pappu.\n",
      "\n",
      "Keep up the good work, titu\n",
      "I will be looking forward to receive the file of today, titu.\n",
      "\n"
     ]
    }
   ],
   "source": [
    "# further enhacenment \n",
    "\n",
    "for x in students:\n",
    "    print(f\"Keep up the good work, {x}\")\n",
    "    print(f\"I will be looking forward to receive the file of today, {x}.\\n\")"
   ]
  },
  {
   "cell_type": "code",
   "execution_count": null,
   "metadata": {},
   "outputs": [],
   "source": []
  }
 ],
 "metadata": {
  "kernelspec": {
   "display_name": "Python 3",
   "language": "python",
   "name": "python3"
  },
  "language_info": {
   "codemirror_mode": {
    "name": "ipython",
    "version": 3
   },
   "file_extension": ".py",
   "mimetype": "text/x-python",
   "name": "python",
   "nbconvert_exporter": "python",
   "pygments_lexer": "ipython3",
   "version": "3.7.6"
  }
 },
 "nbformat": 4,
 "nbformat_minor": 4
}
